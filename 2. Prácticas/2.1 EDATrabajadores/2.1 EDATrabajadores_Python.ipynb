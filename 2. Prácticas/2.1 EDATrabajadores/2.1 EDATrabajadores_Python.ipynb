{
 "cells": [
  {
   "cell_type": "markdown",
   "id": "7b1561e6",
   "metadata": {},
   "source": [
    "## Proyecto 1: EDA  información general del personal\n",
    "\n",
    "#### Nivel: principiantes en Python\n",
    "\n",
    "#### Objetivo: aplicar algunas instrucciones de pandas para el análisis de datos"
   ]
  },
  {
   "cell_type": "markdown",
   "id": "2cec449e-9908-4f10-a2a8-66a8c2c4e7b8",
   "metadata": {},
   "source": [
    "\n",
    "EDA  (por sus siglas en inglés exploratory data analysis),  análisis exploratorio de datos, examina la calidad de los datos y hace preguntas respecto a los mismos.\n"
   ]
  },
  {
   "cell_type": "markdown",
   "id": "fff611df",
   "metadata": {},
   "source": [
    "\n",
    "\n",
    "#### Información de la base\n",
    "La base tiene información de los empleados de una entidad, en el periodo 2001-2005, conformada por 69,930 líneas y 52 columas. \n"
   ]
  },
  {
   "cell_type": "markdown",
   "id": "8c295536",
   "metadata": {},
   "source": [
    "\n",
    "\n",
    "#### Variables de interés\n",
    "\n",
    "Al revisar la base se determinaron las variables de interes y se analizaron a traves de cinco preguntas.\n",
    "\n",
    "no_anio = anio ingreso: total de personas contratadas por año\n",
    "\n",
    "no_nompla = nombre plaza: total de personas por tipo de plaza\n",
    "\n",
    "no_nomdep = nombre dependencia: total plazas por dependencia\n",
    "\n",
    "no_sueldob = sueldo base: sueldo base por tipo de plaza\n",
    "\n",
    "no_renglon = número reglón: sueldo por reglón presupuestario  "
   ]
  },
  {
   "cell_type": "code",
   "execution_count": 44,
   "id": "94673297-9ac2-46df-a61c-50a60df8459a",
   "metadata": {},
   "outputs": [],
   "source": [
    "# importar librerías\n",
    "import pandas as pd \n",
    "import numpy as np\n"
   ]
  },
  {
   "cell_type": "code",
   "execution_count": 45,
   "id": "2c935ede-dd52-4d03-819d-93fc201039e7",
   "metadata": {},
   "outputs": [],
   "source": [
    "# importar librerías\n",
    "%%capture \n",
    "!pip install plotly==5.8.0\n",
    "import plotly.express as px\n"
   ]
  },
  {
   "cell_type": "code",
   "execution_count": 46,
   "id": "63e01616",
   "metadata": {},
   "outputs": [],
   "source": [
    "# leer data\n",
    "data_empleados = pd.read_csv('eda_tst.csv' , encoding = \"latin1\") \n"
   ]
  },
  {
   "cell_type": "code",
   "execution_count": 47,
   "id": "cda2c9cf",
   "metadata": {},
   "outputs": [
    {
     "name": "stdout",
     "output_type": "stream",
     "text": [
      "<class 'pandas.core.frame.DataFrame'>\n",
      "RangeIndex: 69930 entries, 0 to 69929\n",
      "Data columns (total 52 columns):\n",
      " #   Column      Non-Null Count  Dtype  \n",
      "---  ------      --------------  -----  \n",
      " 0   no_extran   69930 non-null  int64  \n",
      " 1   no_anio     69930 non-null  int64  \n",
      " 2   no_mes      69930 non-null  int64  \n",
      " 3   no_quin     69930 non-null  int64  \n",
      " 4   no_partida  68004 non-null  float64\n",
      " 5   no_codemp   69930 non-null  int64  \n",
      " 6   no_ncheque  69786 non-null  object \n",
      " 7   no_codplaz  69930 non-null  int64  \n",
      " 8   no_nompla   68006 non-null  object \n",
      " 9   no_emple    68006 non-null  object \n",
      " 10  no_coddep   69930 non-null  int64  \n",
      " 11  no_codreal  69930 non-null  int64  \n",
      " 12  no_totdes   69930 non-null  float64\n",
      " 13  no_nomdep   68005 non-null  object \n",
      " 14  no_fuentef  69930 non-null  int64  \n",
      " 15  no_diaslab  69930 non-null  int64  \n",
      " 16  no_sueldpr  69930 non-null  float64\n",
      " 17  no_sueldob  69930 non-null  float64\n",
      " 18  no_comple   69930 non-null  float64\n",
      " 19  no_coperso  69930 non-null  float64\n",
      " 20  no_coplaza  69930 non-null  float64\n",
      " 21  no_bantig   69930 non-null  float64\n",
      " 22  no_bprofe   69930 non-null  float64\n",
      " 23  no_bpacto   69930 non-null  float64\n",
      " 24  no_btrans   69930 non-null  float64\n",
      " 25  no_bonvac   69930 non-null  float64\n",
      " 26  no_igss     69930 non-null  float64\n",
      " 27  no_isr      69930 non-null  float64\n",
      " 28  no_montepi  69930 non-null  float64\n",
      " 29  no_fianza   69930 non-null  float64\n",
      " 30  no_solida   69930 non-null  float64\n",
      " 31  no_bantrab  69930 non-null  float64\n",
      " 32  no_desjudi  69930 non-null  float64\n",
      " 33  no_desan    69930 non-null  float64\n",
      " 34  no_acep     69930 non-null  float64\n",
      " 35  no_segvida  69930 non-null  float64\n",
      " 36  no_tim_a    69930 non-null  float64\n",
      " 37  no_tim_e    69930 non-null  float64\n",
      " 38  no_tim_i    69930 non-null  float64\n",
      " 39  no_ctaprof  69930 non-null  float64\n",
      " 40  no_ctasind  69930 non-null  float64\n",
      " 41  no_otrdesc  69930 non-null  float64\n",
      " 42  no_liquido  69930 non-null  float64\n",
      " 43  no_devmes   69930 non-null  float64\n",
      " 44  no_renglon  68025 non-null  float64\n",
      " 45  no_estado   69930 non-null  object \n",
      " 46  no_totdev   69930 non-null  float64\n",
      " 47  no_bancas   69930 non-null  float64\n",
      " 48  no_propor   69930 non-null  int64  \n",
      " 49  no_ornato   69930 non-null  float64\n",
      " 50  no_cuoigss  69930 non-null  float64\n",
      " 51  no_muni     69930 non-null  int64  \n",
      "dtypes: float64(35), int64(12), object(5)\n",
      "memory usage: 27.7+ MB\n"
     ]
    }
   ],
   "source": [
    "# metadatos\n",
    "data_empleados.info()\n"
   ]
  },
  {
   "cell_type": "code",
   "execution_count": 48,
   "id": "97edb154",
   "metadata": {},
   "outputs": [
    {
     "data": {
      "text/plain": [
       "no_extran        0\n",
       "no_anio          0\n",
       "no_mes           0\n",
       "no_quin          0\n",
       "no_partida    1926\n",
       "no_codemp        0\n",
       "no_ncheque     144\n",
       "no_codplaz       0\n",
       "no_nompla     1924\n",
       "no_emple      1924\n",
       "no_coddep        0\n",
       "no_codreal       0\n",
       "no_totdes        0\n",
       "no_nomdep     1925\n",
       "no_fuentef       0\n",
       "no_diaslab       0\n",
       "no_sueldpr       0\n",
       "no_sueldob       0\n",
       "no_comple        0\n",
       "no_coperso       0\n",
       "no_coplaza       0\n",
       "no_bantig        0\n",
       "no_bprofe        0\n",
       "no_bpacto        0\n",
       "no_btrans        0\n",
       "no_bonvac        0\n",
       "no_igss          0\n",
       "no_isr           0\n",
       "no_montepi       0\n",
       "no_fianza        0\n",
       "no_solida        0\n",
       "no_bantrab       0\n",
       "no_desjudi       0\n",
       "no_desan         0\n",
       "no_acep          0\n",
       "no_segvida       0\n",
       "no_tim_a         0\n",
       "no_tim_e         0\n",
       "no_tim_i         0\n",
       "no_ctaprof       0\n",
       "no_ctasind       0\n",
       "no_otrdesc       0\n",
       "no_liquido       0\n",
       "no_devmes        0\n",
       "no_renglon    1905\n",
       "no_estado        0\n",
       "no_totdev        0\n",
       "no_bancas        0\n",
       "no_propor        0\n",
       "no_ornato        0\n",
       "no_cuoigss       0\n",
       "no_muni          0\n",
       "dtype: int64"
      ]
     },
     "execution_count": 48,
     "metadata": {},
     "output_type": "execute_result"
    }
   ],
   "source": [
    "# valores faltantes por columnas \n",
    "numeros_faltantes = data_empleados.isna().sum()\n",
    "numeros_faltantes\n"
   ]
  },
  {
   "cell_type": "markdown",
   "id": "d04cf337",
   "metadata": {},
   "source": [
    "ANÁLISIS\n",
    "\n",
    "se detectó en las columnas de interés faltantes : \n",
    "    \n",
    "no_renglon tiene 1905 faltantes \n",
    "\n",
    "no_nompla 1924 faltantes \n",
    "\n",
    "no_nomdep 1925 faltantes "
   ]
  },
  {
   "cell_type": "code",
   "execution_count": 49,
   "id": "190c4895",
   "metadata": {
    "scrolled": true
   },
   "outputs": [
    {
     "data": {
      "text/plain": [
       "no_extran     0.000000\n",
       "no_anio       0.000000\n",
       "no_mes        0.000000\n",
       "no_quin       0.000000\n",
       "no_partida    2.754183\n",
       "no_codemp     0.000000\n",
       "no_ncheque    0.205920\n",
       "no_codplaz    0.000000\n",
       "no_nompla     2.751323\n",
       "no_emple      2.751323\n",
       "no_coddep     0.000000\n",
       "no_codreal    0.000000\n",
       "no_totdes     0.000000\n",
       "no_nomdep     2.752753\n",
       "no_fuentef    0.000000\n",
       "no_diaslab    0.000000\n",
       "no_sueldpr    0.000000\n",
       "no_sueldob    0.000000\n",
       "no_comple     0.000000\n",
       "no_coperso    0.000000\n",
       "no_coplaza    0.000000\n",
       "no_bantig     0.000000\n",
       "no_bprofe     0.000000\n",
       "no_bpacto     0.000000\n",
       "no_btrans     0.000000\n",
       "no_bonvac     0.000000\n",
       "no_igss       0.000000\n",
       "no_isr        0.000000\n",
       "no_montepi    0.000000\n",
       "no_fianza     0.000000\n",
       "no_solida     0.000000\n",
       "no_bantrab    0.000000\n",
       "no_desjudi    0.000000\n",
       "no_desan      0.000000\n",
       "no_acep       0.000000\n",
       "no_segvida    0.000000\n",
       "no_tim_a      0.000000\n",
       "no_tim_e      0.000000\n",
       "no_tim_i      0.000000\n",
       "no_ctaprof    0.000000\n",
       "no_ctasind    0.000000\n",
       "no_otrdesc    0.000000\n",
       "no_liquido    0.000000\n",
       "no_devmes     0.000000\n",
       "no_renglon    2.724153\n",
       "no_estado     0.000000\n",
       "no_totdev     0.000000\n",
       "no_bancas     0.000000\n",
       "no_propor     0.000000\n",
       "no_ornato     0.000000\n",
       "no_cuoigss    0.000000\n",
       "no_muni       0.000000\n",
       "dtype: float64"
      ]
     },
     "execution_count": 49,
     "metadata": {},
     "output_type": "execute_result"
    }
   ],
   "source": [
    "# % de valores faltantes\n",
    "porcent_numeros_faltantes = data_empleados.isna().mean()*100\n",
    "porcent_numeros_faltantes\n"
   ]
  },
  {
   "cell_type": "markdown",
   "id": "4534d448",
   "metadata": {},
   "source": [
    "ANÁLISIS\n",
    "\n",
    "% de faltantes en las columnas de interés son: \n",
    "    \n",
    "no_renglon tiene 2.72% faltantes \n",
    "\n",
    "no_nompla 2.75% faltantes \n",
    "\n",
    "no_nomdep 2.75% faltantes "
   ]
  },
  {
   "cell_type": "code",
   "execution_count": 50,
   "id": "f4eab8c5",
   "metadata": {},
   "outputs": [
    {
     "data": {
      "text/html": [
       "<div>\n",
       "<style scoped>\n",
       "    .dataframe tbody tr th:only-of-type {\n",
       "        vertical-align: middle;\n",
       "    }\n",
       "\n",
       "    .dataframe tbody tr th {\n",
       "        vertical-align: top;\n",
       "    }\n",
       "\n",
       "    .dataframe thead th {\n",
       "        text-align: right;\n",
       "    }\n",
       "</style>\n",
       "<table border=\"1\" class=\"dataframe\">\n",
       "  <thead>\n",
       "    <tr style=\"text-align: right;\">\n",
       "      <th></th>\n",
       "      <th>no_anio</th>\n",
       "      <th>no_nompla</th>\n",
       "      <th>no_nomdep</th>\n",
       "      <th>no_sueldob</th>\n",
       "      <th>no_renglon</th>\n",
       "    </tr>\n",
       "  </thead>\n",
       "  <tbody>\n",
       "    <tr>\n",
       "      <th>0</th>\n",
       "      <td>2001</td>\n",
       "      <td>Secretaria de Gerencia</td>\n",
       "      <td>JUNTA DIRECTIVA</td>\n",
       "      <td>2800.0</td>\n",
       "      <td>11.0</td>\n",
       "    </tr>\n",
       "    <tr>\n",
       "      <th>1</th>\n",
       "      <td>2001</td>\n",
       "      <td>Piloto de Presidencia</td>\n",
       "      <td>JUNTA DIRECTIVA</td>\n",
       "      <td>1900.0</td>\n",
       "      <td>11.0</td>\n",
       "    </tr>\n",
       "    <tr>\n",
       "      <th>2</th>\n",
       "      <td>2001</td>\n",
       "      <td>Gerente General</td>\n",
       "      <td>GERENCIA GENERAL</td>\n",
       "      <td>16000.0</td>\n",
       "      <td>11.0</td>\n",
       "    </tr>\n",
       "    <tr>\n",
       "      <th>3</th>\n",
       "      <td>2001</td>\n",
       "      <td>Subgerente General</td>\n",
       "      <td>GERENCIA GENERAL</td>\n",
       "      <td>12000.0</td>\n",
       "      <td>11.0</td>\n",
       "    </tr>\n",
       "    <tr>\n",
       "      <th>4</th>\n",
       "      <td>2001</td>\n",
       "      <td>Asistente de Gerencia</td>\n",
       "      <td>GERENCIA GENERAL</td>\n",
       "      <td>3300.0</td>\n",
       "      <td>11.0</td>\n",
       "    </tr>\n",
       "    <tr>\n",
       "      <th>...</th>\n",
       "      <td>...</td>\n",
       "      <td>...</td>\n",
       "      <td>...</td>\n",
       "      <td>...</td>\n",
       "      <td>...</td>\n",
       "    </tr>\n",
       "    <tr>\n",
       "      <th>69925</th>\n",
       "      <td>2005</td>\n",
       "      <td>Tecnico en Informatica</td>\n",
       "      <td>REGIONAL DE PETEN</td>\n",
       "      <td>600.0</td>\n",
       "      <td>11.0</td>\n",
       "    </tr>\n",
       "    <tr>\n",
       "      <th>69926</th>\n",
       "      <td>2005</td>\n",
       "      <td>Secretaria Ejecutiva II</td>\n",
       "      <td>REGIONAL DE PETEN</td>\n",
       "      <td>2000.0</td>\n",
       "      <td>11.0</td>\n",
       "    </tr>\n",
       "    <tr>\n",
       "      <th>69927</th>\n",
       "      <td>2005</td>\n",
       "      <td>Dibujante</td>\n",
       "      <td>REGIONAL DE PETEN</td>\n",
       "      <td>2000.0</td>\n",
       "      <td>11.0</td>\n",
       "    </tr>\n",
       "    <tr>\n",
       "      <th>69928</th>\n",
       "      <td>2005</td>\n",
       "      <td>Dibujante</td>\n",
       "      <td>REGIONAL DE PETEN</td>\n",
       "      <td>2000.0</td>\n",
       "      <td>11.0</td>\n",
       "    </tr>\n",
       "    <tr>\n",
       "      <th>69929</th>\n",
       "      <td>2005</td>\n",
       "      <td>Operario Regional</td>\n",
       "      <td>REGIONAL DE PETEN</td>\n",
       "      <td>2000.0</td>\n",
       "      <td>11.0</td>\n",
       "    </tr>\n",
       "  </tbody>\n",
       "</table>\n",
       "<p>69930 rows × 5 columns</p>\n",
       "</div>"
      ],
      "text/plain": [
       "       no_anio                no_nompla          no_nomdep  no_sueldob  \\\n",
       "0         2001   Secretaria de Gerencia    JUNTA DIRECTIVA      2800.0   \n",
       "1         2001    Piloto de Presidencia    JUNTA DIRECTIVA      1900.0   \n",
       "2         2001          Gerente General   GERENCIA GENERAL     16000.0   \n",
       "3         2001       Subgerente General   GERENCIA GENERAL     12000.0   \n",
       "4         2001    Asistente de Gerencia   GERENCIA GENERAL      3300.0   \n",
       "...        ...                      ...                ...         ...   \n",
       "69925     2005   Tecnico en Informatica  REGIONAL DE PETEN       600.0   \n",
       "69926     2005  Secretaria Ejecutiva II  REGIONAL DE PETEN      2000.0   \n",
       "69927     2005                Dibujante  REGIONAL DE PETEN      2000.0   \n",
       "69928     2005                Dibujante  REGIONAL DE PETEN      2000.0   \n",
       "69929     2005        Operario Regional  REGIONAL DE PETEN      2000.0   \n",
       "\n",
       "       no_renglon  \n",
       "0            11.0  \n",
       "1            11.0  \n",
       "2            11.0  \n",
       "3            11.0  \n",
       "4            11.0  \n",
       "...           ...  \n",
       "69925        11.0  \n",
       "69926        11.0  \n",
       "69927        11.0  \n",
       "69928        11.0  \n",
       "69929        11.0  \n",
       "\n",
       "[69930 rows x 5 columns]"
      ]
     },
     "execution_count": 50,
     "metadata": {},
     "output_type": "execute_result"
    }
   ],
   "source": [
    "# seleccionar columnas de interés\n",
    "data_empleados2 = data_empleados[[\"no_anio\" , \"no_nompla\" , \"no_nomdep\" , \"no_sueldob\" , \"no_renglon\"]]\n",
    "data_empleados2\n"
   ]
  },
  {
   "cell_type": "code",
   "execution_count": 51,
   "id": "e0aaa542",
   "metadata": {},
   "outputs": [
    {
     "data": {
      "text/html": [
       "<div>\n",
       "<style scoped>\n",
       "    .dataframe tbody tr th:only-of-type {\n",
       "        vertical-align: middle;\n",
       "    }\n",
       "\n",
       "    .dataframe tbody tr th {\n",
       "        vertical-align: top;\n",
       "    }\n",
       "\n",
       "    .dataframe thead th {\n",
       "        text-align: right;\n",
       "    }\n",
       "</style>\n",
       "<table border=\"1\" class=\"dataframe\">\n",
       "  <thead>\n",
       "    <tr style=\"text-align: right;\">\n",
       "      <th></th>\n",
       "      <th>anio_ingreso</th>\n",
       "      <th>plaza</th>\n",
       "      <th>dependencia</th>\n",
       "      <th>sueldo_base</th>\n",
       "      <th>reglon_presupuestario</th>\n",
       "    </tr>\n",
       "  </thead>\n",
       "  <tbody>\n",
       "    <tr>\n",
       "      <th>0</th>\n",
       "      <td>2001</td>\n",
       "      <td>Secretaria de Gerencia</td>\n",
       "      <td>JUNTA DIRECTIVA</td>\n",
       "      <td>2800.0</td>\n",
       "      <td>11.0</td>\n",
       "    </tr>\n",
       "    <tr>\n",
       "      <th>1</th>\n",
       "      <td>2001</td>\n",
       "      <td>Piloto de Presidencia</td>\n",
       "      <td>JUNTA DIRECTIVA</td>\n",
       "      <td>1900.0</td>\n",
       "      <td>11.0</td>\n",
       "    </tr>\n",
       "    <tr>\n",
       "      <th>2</th>\n",
       "      <td>2001</td>\n",
       "      <td>Gerente General</td>\n",
       "      <td>GERENCIA GENERAL</td>\n",
       "      <td>16000.0</td>\n",
       "      <td>11.0</td>\n",
       "    </tr>\n",
       "    <tr>\n",
       "      <th>3</th>\n",
       "      <td>2001</td>\n",
       "      <td>Subgerente General</td>\n",
       "      <td>GERENCIA GENERAL</td>\n",
       "      <td>12000.0</td>\n",
       "      <td>11.0</td>\n",
       "    </tr>\n",
       "    <tr>\n",
       "      <th>4</th>\n",
       "      <td>2001</td>\n",
       "      <td>Asistente de Gerencia</td>\n",
       "      <td>GERENCIA GENERAL</td>\n",
       "      <td>3300.0</td>\n",
       "      <td>11.0</td>\n",
       "    </tr>\n",
       "    <tr>\n",
       "      <th>...</th>\n",
       "      <td>...</td>\n",
       "      <td>...</td>\n",
       "      <td>...</td>\n",
       "      <td>...</td>\n",
       "      <td>...</td>\n",
       "    </tr>\n",
       "    <tr>\n",
       "      <th>69925</th>\n",
       "      <td>2005</td>\n",
       "      <td>Tecnico en Informatica</td>\n",
       "      <td>REGIONAL DE PETEN</td>\n",
       "      <td>600.0</td>\n",
       "      <td>11.0</td>\n",
       "    </tr>\n",
       "    <tr>\n",
       "      <th>69926</th>\n",
       "      <td>2005</td>\n",
       "      <td>Secretaria Ejecutiva II</td>\n",
       "      <td>REGIONAL DE PETEN</td>\n",
       "      <td>2000.0</td>\n",
       "      <td>11.0</td>\n",
       "    </tr>\n",
       "    <tr>\n",
       "      <th>69927</th>\n",
       "      <td>2005</td>\n",
       "      <td>Dibujante</td>\n",
       "      <td>REGIONAL DE PETEN</td>\n",
       "      <td>2000.0</td>\n",
       "      <td>11.0</td>\n",
       "    </tr>\n",
       "    <tr>\n",
       "      <th>69928</th>\n",
       "      <td>2005</td>\n",
       "      <td>Dibujante</td>\n",
       "      <td>REGIONAL DE PETEN</td>\n",
       "      <td>2000.0</td>\n",
       "      <td>11.0</td>\n",
       "    </tr>\n",
       "    <tr>\n",
       "      <th>69929</th>\n",
       "      <td>2005</td>\n",
       "      <td>Operario Regional</td>\n",
       "      <td>REGIONAL DE PETEN</td>\n",
       "      <td>2000.0</td>\n",
       "      <td>11.0</td>\n",
       "    </tr>\n",
       "  </tbody>\n",
       "</table>\n",
       "<p>69930 rows × 5 columns</p>\n",
       "</div>"
      ],
      "text/plain": [
       "       anio_ingreso                    plaza        dependencia  sueldo_base  \\\n",
       "0              2001   Secretaria de Gerencia    JUNTA DIRECTIVA       2800.0   \n",
       "1              2001    Piloto de Presidencia    JUNTA DIRECTIVA       1900.0   \n",
       "2              2001          Gerente General   GERENCIA GENERAL      16000.0   \n",
       "3              2001       Subgerente General   GERENCIA GENERAL      12000.0   \n",
       "4              2001    Asistente de Gerencia   GERENCIA GENERAL       3300.0   \n",
       "...             ...                      ...                ...          ...   \n",
       "69925          2005   Tecnico en Informatica  REGIONAL DE PETEN        600.0   \n",
       "69926          2005  Secretaria Ejecutiva II  REGIONAL DE PETEN       2000.0   \n",
       "69927          2005                Dibujante  REGIONAL DE PETEN       2000.0   \n",
       "69928          2005                Dibujante  REGIONAL DE PETEN       2000.0   \n",
       "69929          2005        Operario Regional  REGIONAL DE PETEN       2000.0   \n",
       "\n",
       "       reglon_presupuestario  \n",
       "0                       11.0  \n",
       "1                       11.0  \n",
       "2                       11.0  \n",
       "3                       11.0  \n",
       "4                       11.0  \n",
       "...                      ...  \n",
       "69925                   11.0  \n",
       "69926                   11.0  \n",
       "69927                   11.0  \n",
       "69928                   11.0  \n",
       "69929                   11.0  \n",
       "\n",
       "[69930 rows x 5 columns]"
      ]
     },
     "execution_count": 51,
     "metadata": {},
     "output_type": "execute_result"
    }
   ],
   "source": [
    "# renombrar columnas\n",
    "data_empleados2 = data_empleados2.rename(columns = {\"no_anio\": \"anio_ingreso\" , \"no_nompla\" : \"plaza\", \"no_nomdep\" : \"dependencia\" , \"no_sueldob\" : \"sueldo_base\" , \"no_renglon\" :\"reglon_presupuestario\"})\n",
    "data_empleados2\n"
   ]
  },
  {
   "cell_type": "code",
   "execution_count": 52,
   "id": "76579021",
   "metadata": {},
   "outputs": [
    {
     "name": "stdout",
     "output_type": "stream",
     "text": [
      "<class 'pandas.core.frame.DataFrame'>\n",
      "RangeIndex: 69930 entries, 0 to 69929\n",
      "Data columns (total 5 columns):\n",
      " #   Column                 Non-Null Count  Dtype  \n",
      "---  ------                 --------------  -----  \n",
      " 0   anio_ingreso           69930 non-null  int64  \n",
      " 1   plaza                  68006 non-null  object \n",
      " 2   dependencia            68005 non-null  object \n",
      " 3   sueldo_base            69930 non-null  float64\n",
      " 4   reglon_presupuestario  68025 non-null  float64\n",
      "dtypes: float64(2), int64(1), object(2)\n",
      "memory usage: 2.7+ MB\n"
     ]
    }
   ],
   "source": [
    "# ver tipo de data seleccionada\n",
    "data_empleados2.info()\n"
   ]
  },
  {
   "cell_type": "markdown",
   "id": "94ac0ae6",
   "metadata": {},
   "source": [
    "## PREGUNTA 1: total de personas contratados por año"
   ]
  },
  {
   "cell_type": "code",
   "execution_count": 9,
   "id": "2819b593",
   "metadata": {},
   "outputs": [
    {
     "data": {
      "text/plain": [
       "anio_ingreso\n",
       "1997    5441\n",
       "1998    7963\n",
       "1999    7860\n",
       "2000    8519\n",
       "2001    8659\n",
       "2002    8657\n",
       "2003    8974\n",
       "2004    9885\n",
       "2005    3972\n",
       "dtype: int64"
      ]
     },
     "execution_count": 9,
     "metadata": {},
     "output_type": "execute_result"
    }
   ],
   "source": [
    "# agrupar por año de ingreso \n",
    "personas_contradas_xanio = data_empleados2.groupby(['anio_ingreso'])\n",
    "personas_contradas_xanio.size()\n"
   ]
  },
  {
   "cell_type": "code",
   "execution_count": 8,
   "id": "7d00b175",
   "metadata": {},
   "outputs": [
    {
     "data": {
      "text/plain": [
       "<seaborn.axisgrid.FacetGrid at 0x20f4f091a60>"
      ]
     },
     "execution_count": 8,
     "metadata": {},
     "output_type": "execute_result"
    },
    {
     "data": {
      "image/png": "[encoded data removed]",
      "text/plain": [
       "<Figure size 360x360 with 1 Axes>"
      ]
     },
     "metadata": {
      "needs_background": "light"
     },
     "output_type": "display_data"
    }
   ],
   "source": [
    "# gráfica total de personas contratadas por año\n",
    "import seaborn as sns\n",
    "sns.catplot(y = \"anio_ingreso\", data = data_empleados2, kind = \"count\")\n"
   ]
  },
  {
   "cell_type": "markdown",
   "id": "1608932d",
   "metadata": {},
   "source": [
    "## PREGUNTA 2: total de personas por tipo de plaza"
   ]
  },
  {
   "cell_type": "code",
   "execution_count": 54,
   "id": "b08d74a9",
   "metadata": {},
   "outputs": [
    {
     "data": {
      "text/plain": [
       "plaza\n",
       "Analista Fisico Quimico    441\n",
       "Analista Microbiologico    294\n",
       "Analista Presupuestario    256\n",
       "Analista de Cartera        684\n",
       "Analista de Creditos       430\n",
       "                          ... \n",
       "Técnico III                467\n",
       "Técnico Profesional I      795\n",
       "Técnico Profesional II     671\n",
       "Técnico Profesional III    213\n",
       "profesional I                1\n",
       "Length: 163, dtype: int64"
      ]
     },
     "execution_count": 54,
     "metadata": {},
     "output_type": "execute_result"
    }
   ],
   "source": [
    "# agrupar por tipo de plaza \n",
    "total_tipoplaza1 = data_empleados2.groupby(['plaza'])\n",
    "total_tipoplaza1.size()\n"
   ]
  },
  {
   "cell_type": "code",
   "execution_count": 55,
   "id": "83c59a08",
   "metadata": {},
   "outputs": [
    {
     "data": {
      "text/plain": [
       "Secretaria Ejecutiva I                 2953\n",
       "Profesional I                          2619\n",
       "Secretaria Ejecutiva II                2425\n",
       "Auxiliar Asesoria Financiera Munici    2122\n",
       "Contador                               2046\n",
       "                                       ... \n",
       "Trabajador Especializado II              48\n",
       "Oficinista I                             29\n",
       "Jefe Tecnico II                          25\n",
       "Auxiliar de Capacitacion Municipal       12\n",
       "profesional I                             1\n",
       "Name: plaza, Length: 163, dtype: int64"
      ]
     },
     "execution_count": 55,
     "metadata": {},
     "output_type": "execute_result"
    }
   ],
   "source": [
    "# total de plazas por tipo\n",
    "total_tipoplaza2 = data_empleados2[\"plaza\"].value_counts()\n",
    "total_tipoplaza2\n"
   ]
  },
  {
   "cell_type": "code",
   "execution_count": 56,
   "id": "fb5c78a1",
   "metadata": {},
   "outputs": [
    {
     "data": {
      "text/plain": [
       "anio_ingreso  plaza                           \n",
       "1997          Asistente Profesional III             9\n",
       "              Asistente profesional II              9\n",
       "              Auditor Jefe                          9\n",
       "              Auxiliar de Bodega                   27\n",
       "              Conserje                             41\n",
       "                                                 ... \n",
       "2005          Supervisor de Prestaciones           12\n",
       "              Supervisor de Tesorer¡a              12\n",
       "              Tecnico de Servicios Municipales     60\n",
       "              Tecnico en Informatica              132\n",
       "              Topografo                            24\n",
       "Length: 867, dtype: int64"
      ]
     },
     "execution_count": 56,
     "metadata": {},
     "output_type": "execute_result"
    }
   ],
   "source": [
    "# total de personas contratadas por año y por tipo de plaza\n",
    "total_tipoplaza3 = data_empleados2.groupby([\"anio_ingreso\" , 'plaza'])\n",
    "total_tipoplaza3.size()\n"
   ]
  },
  {
   "cell_type": "code",
   "execution_count": 57,
   "id": "15394873",
   "metadata": {},
   "outputs": [
    {
     "data": {
      "text/plain": [
       "plaza                    anio_ingreso\n",
       "Analista Fisico Quimico  2000             75\n",
       "                         2001             78\n",
       "                         2002             81\n",
       "                         2003             84\n",
       "                         2004             87\n",
       "                                        ... \n",
       "Técnico Profesional II   1999            599\n",
       "                         2000             72\n",
       "Técnico Profesional III  1999            191\n",
       "                         2000             22\n",
       "profesional I            1999              1\n",
       "Length: 867, dtype: int64"
      ]
     },
     "execution_count": 57,
     "metadata": {},
     "output_type": "execute_result"
    }
   ],
   "source": [
    "# total de personas contratadas por tipo de plaza y año de ingreso\n",
    "total_tipoplaza3 = data_empleados2.groupby(['plaza' , \"anio_ingreso\" ])\n",
    "total_tipoplaza3.size()\n"
   ]
  },
  {
   "cell_type": "markdown",
   "id": "b9db6e67",
   "metadata": {},
   "source": [
    "## PREGUNTA 3: total de plaza por dependencia"
   ]
  },
  {
   "cell_type": "code",
   "execution_count": 58,
   "id": "10a431bd",
   "metadata": {},
   "outputs": [
    {
     "data": {
      "text/plain": [
       "dependencia                                 plaza                              \n",
       "AREA DE ASESORIA ADMINISTRATIVA             Asesor Administrativo Municipal        286\n",
       "                                            Auxiliar Asesoria Administrativa Mu    419\n",
       "AREA DE ASESORIA ADMINISTRATIVA FINANCIERA  Secretaria Ejecutiva I                 147\n",
       "                                            Sub-director Asesoria Administrativ    144\n",
       "AREA DE ASESORIA FINANCIERA                 Asesor Financiero Municipal            294\n",
       "                                                                                  ... \n",
       "UNIDAD FINANCIERA                           Asistente Administrativo/Financiero    147\n",
       "                                            Director Financiero                    146\n",
       "                                            Mensajero                              118\n",
       "                                            Secretaria Ejecutiva II                147\n",
       "                                            Secretaria Oficinista                  144\n",
       "Length: 916, dtype: int64"
      ]
     },
     "execution_count": 58,
     "metadata": {},
     "output_type": "execute_result"
    }
   ],
   "source": [
    "totalplaza_pordependencia = data_empleados2.groupby([\"dependencia\" , \"plaza\"])\n",
    "totalplaza_pordependencia.size()\n"
   ]
  },
  {
   "cell_type": "markdown",
   "id": "e5f7e59e",
   "metadata": {},
   "source": [
    "## PREGUNTA 4: sueldo base por tipo de plaza"
   ]
  },
  {
   "cell_type": "code",
   "execution_count": 59,
   "id": "726ce82e",
   "metadata": {},
   "outputs": [
    {
     "data": {
      "text/plain": [
       "plaza                    sueldo_base\n",
       "Analista Fisico Quimico  126.0            3\n",
       "                         450.0            3\n",
       "                         2000.0           3\n",
       "                         2200.0           3\n",
       "                         2800.0         150\n",
       "                                       ... \n",
       "Técnico Profesional III  1942.0           2\n",
       "                         1960.0           3\n",
       "                         1975.0           4\n",
       "                         2000.0          13\n",
       "profesional I            2745.0           1\n",
       "Length: 2329, dtype: int64"
      ]
     },
     "execution_count": 59,
     "metadata": {},
     "output_type": "execute_result"
    }
   ],
   "source": [
    "sueldobase_tipoplaza = data_empleados2.groupby([\"plaza\" , \"sueldo_base\"])\n",
    "sueldobase_tipoplaza.size()\n"
   ]
  },
  {
   "cell_type": "markdown",
   "id": "dc9aecf9",
   "metadata": {},
   "source": [
    "## PREGUNTA 5 : sueldo  por reglón presupuestario"
   ]
  },
  {
   "cell_type": "code",
   "execution_count": 60,
   "id": "28bcdddc",
   "metadata": {},
   "outputs": [
    {
     "data": {
      "text/plain": [
       "reglon_presupuestario  sueldo_base\n",
       "11.0                   0.00           40\n",
       "                       36.28           1\n",
       "                       37.50           1\n",
       "                       42.00           1\n",
       "                       50.79           1\n",
       "                                      ..\n",
       "31.0                   991.00          9\n",
       "                       1036.00         6\n",
       "                       1150.00        11\n",
       "                       1191.00         2\n",
       "                       1310.00         1\n",
       "Length: 805, dtype: int64"
      ]
     },
     "execution_count": 60,
     "metadata": {},
     "output_type": "execute_result"
    }
   ],
   "source": [
    "sueldobase_porreglon = data_empleados2.groupby([\"reglon_presupuestario\" , \"sueldo_base\"])\n",
    "sueldobase_porreglon .size()\n"
   ]
  },
  {
   "cell_type": "code",
   "execution_count": 30,
   "id": "5a783769",
   "metadata": {},
   "outputs": [
    {
     "data": {
      "text/plain": [
       "11.0    67804\n",
       "31.0      221\n",
       "Name: reglon_presupuestario, dtype: int64"
      ]
     },
     "execution_count": 30,
     "metadata": {},
     "output_type": "execute_result"
    }
   ],
   "source": [
    "# total de personas por tipo de reglón presupuestario\n",
    "tipo_reglonpresupuestario = data_empleados2[\"reglon_presupuestario\"].value_counts()\n",
    "tipo_reglonpresupuestario\n"
   ]
  },
  {
   "cell_type": "markdown",
   "id": "e9f283eb",
   "metadata": {},
   "source": [
    "### time: 16 h"
   ]
  }
 ],
 "metadata": {
  "kernelspec": {
   "display_name": "Python 3",
   "language": "python",
   "name": "python3"
  },
  "language_info": {
   "codemirror_mode": {
    "name": "ipython",
    "version": 3
   },
   "file_extension": ".py",
   "mimetype": "text/x-python",
   "name": "python",
   "nbconvert_exporter": "python",
   "pygments_lexer": "ipython3",
   "version": "3.8.8"
  }
 },
 "nbformat": 4,
 "nbformat_minor": 5
}
